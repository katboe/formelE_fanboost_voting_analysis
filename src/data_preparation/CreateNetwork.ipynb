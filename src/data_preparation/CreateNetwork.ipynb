{
 "cells": [
  {
   "cell_type": "code",
   "execution_count": null,
   "metadata": {},
   "outputs": [],
   "source": [
    "import tweepy\n",
    "import itertools\n",
    "import time\n",
    "import numpy as np\n",
    "import json\n",
    "import datetime\n",
    "import os\n",
    "import pandas as pd\n",
    "\n",
    "import networkx as nx"
   ]
  },
  {
   "cell_type": "markdown",
   "metadata": {},
   "source": [
    "# Load data"
   ]
  },
  {
   "cell_type": "code",
   "execution_count": null,
   "metadata": {},
   "outputs": [],
   "source": [
    "#load extracted tweets by all processes and combine in one dictionary\n",
    "tweets = dict()\n",
    "\n",
    "for i in range(4):\n",
    "    with open('../../data/tweets/tweets{}.json'.format(i+1)) as json_file:\n",
    "        tweets.update(json.load(json_file))\n",
    "\n",
    "#combine all tweets of users to one dictionary\n",
    "allTweets = dict()\n",
    "for user in tweets:\n",
    "    userTweets = tweets[user]\n",
    "    for tweet in userTweets:\n",
    "        allTweets[tweet] = userTweets[tweet]"
   ]
  },
  {
   "cell_type": "code",
   "execution_count": null,
   "metadata": {},
   "outputs": [],
   "source": [
    "#load extracted user information\n",
    "users = dict()\n",
    "\n",
    "with open('../../data/users.json') as json_file:\n",
    "        users.update(json.load(json_file))"
   ]
  },
  {
   "cell_type": "code",
   "execution_count": null,
   "metadata": {},
   "outputs": [],
   "source": [
    "#load information on drivers and races\n",
    "drivers = pd.read_csv('../../data/drivers_info.csv')\n",
    "races = pd.read_csv('../../data/races_info.csv')"
   ]
  },
  {
   "cell_type": "markdown",
   "metadata": {},
   "source": [
    "# Preprocessing (leave only tweets with driver hashtag)"
   ]
  },
  {
   "cell_type": "code",
   "execution_count": null,
   "metadata": {},
   "outputs": [],
   "source": [
    "#foreach tweet, check if one of driver's name as hashtag (only than it's count as fanboost vote)\n",
    "#keep relevant tweets\n",
    "\n",
    "activeUsers = []\n",
    "relevantTweets = []\n",
    "\n",
    "for tweetID in allTweets:\n",
    "    tweet = allTweets[tweetID]\n",
    "    userID = (tweet['user'])['id']\n",
    "    hashtags = (tweet['entities'])['hashtags']\n",
    "    driverFound = False\n",
    "    for i in range(len(Drivers)):\n",
    "        for hashtag in hashtags:\n",
    "            if hashtag['text'] == Drivers[i]:\n",
    "                relevantTweets.append(tweet)\n",
    "                driverFound == True\n",
    "                activeUsers.append(userID)\n",
    "                print(\"User {} voted for Driver {} with tweet {}\".format(userID, Drivers[i], tweetID))\n",
    "                break\n",
    "        if driverFound:\n",
    "            break\n",
    "print(f\"\\r {len(relevantTweets)} relevant tweets\")\n",
    "            \n",
    "#remember users actively participating in voting on Twitter (for node ids later)\n",
    "activeUsers = list(dict.fromkeys(activeUsers))\n",
    "\n",
    "x = np.array(activeUsers)\n",
    "activeUsers = []\n",
    "uniqueUsers = np.unique(x)\n",
    "for user in uniqueUsers:\n",
    "    activeUsers.append((int)(user))\n",
    "print(f\"{len(activeUsers)} active users\")"
   ]
  },
  {
   "cell_type": "markdown",
   "metadata": {},
   "source": [
    "# Create Network from relevant Tweets"
   ]
  },
  {
   "cell_type": "markdown",
   "metadata": {},
   "source": [
    "## Create nodes"
   ]
  },
  {
   "cell_type": "code",
   "execution_count": null,
   "metadata": {},
   "outputs": [],
   "source": [
    "nodes = {}"
   ]
  },
  {
   "cell_type": "code",
   "execution_count": null,
   "metadata": {},
   "outputs": [],
   "source": [
    "# Transform drivers into json-nodes\n",
    "for driver in Drivers:\n",
    "    #add to node dictionary\n",
    "    jsonEntry = dict()\n",
    "    jsonEntry['type'] = 'driver'\n",
    "    jsonEntry['color'] = '#0099ff'\n",
    "    jsonEntry['shape'] = 'rectangle'\n",
    "    jsonEntry['name'] = drivers['Name']\n",
    "    jsonEntry['screenName'] = drivers['screenName']\n",
    "    jsonEntry['location'] = drivers['Country']\n",
    "    \n",
    "    nodes[drivers['screenName']] = jsonEntry"
   ]
  },
  {
   "cell_type": "code",
   "execution_count": null,
   "metadata": {},
   "outputs": [],
   "source": [
    "#Transform active users into json-nodes\n",
    "locationExtraction == False\n",
    "\n",
    "for userID in activeUsers:\n",
    "    userID = int(userID)\n",
    "    \n",
    "    #add to node dictionary\n",
    "    jsonEntry = dict()\n",
    "    jsonEntry['type'] = 'user'\n",
    "    jsonEntry['color'] = '#808080'\n",
    "    jsonEntry['shape'] = 'ellipse'\n",
    "    jsonEntry['screenName'] = users[userID]['screen_name']\n",
    "    jsonEntry['id'] = users[userID]['userID']\n",
    "    jsonEntry['twitterID'] = userID\n",
    "\n",
    "    #location:\n",
    "    if locationExtraction:\n",
    "        if userID in users:\n",
    "            jsonEntry['location'] = (users[userID])['location']\n",
    "            \n",
    "    nodes[users[userID]['screen_name']] = jsonEntry"
   ]
  },
  {
   "cell_type": "markdown",
   "metadata": {},
   "source": [
    "## Create directed links from tweets"
   ]
  },
  {
   "cell_type": "code",
   "execution_count": null,
   "metadata": {},
   "outputs": [],
   "source": [
    "races['start_date'] = pd.to_datetime(races['start_date'])\n",
    "\n",
    "#voting is enabled for 10 days prior to race\n",
    "delta1 = datetime.timedelta(days = 1)\n",
    "delta2 = datetime.timedelta(days = 10)\n",
    "races['fanboost_start'] = races['start_date'] - delta2\n",
    "races['fanboost_end'] = races['start_date'] + delta1"
   ]
  },
  {
   "cell_type": "code",
   "execution_count": null,
   "metadata": {},
   "outputs": [],
   "source": [
    "#find race that twitter vote corresponds to\n",
    "def getRace(tweet):\n",
    "    date_time_obj = datetime.datetime.strptime(tweet[\"created_at\"],  '%a %b %d %H:%M:%S %z %Y')\n",
    "    date = date_time_obj.date()\n",
    "    for race in races:\n",
    "        if date_time_obj.date() <= (races[race])[0] and date_time_obj.date() > (races[race])[1]:\n",
    "            return race\n",
    "    return None"
   ]
  },
  {
   "cell_type": "code",
   "execution_count": null,
   "metadata": {},
   "outputs": [],
   "source": [
    "#create link for each voting (#fanboost + #driver/@driver): from twitter user to driver\n",
    "\n",
    "#selected_races = races\n",
    "selected_race = 'MexicoCity2'\n",
    "edges = []\n",
    "\n",
    "for i in range(len(relevantTweets)):\n",
    "    tweet = relevantTweets[i]\n",
    "    \n",
    "    #only consider selected races\n",
    "    race = getRace(tweet)\n",
    "    if race != selected_races:\n",
    "        continue\n",
    "    \n",
    "    tweetID = tweet['id']\n",
    "    userID = (tweet['user'])['id']\n",
    "    hashtags = (tweet['entities'])['hashtags']    \n",
    "    user_mentions = (tweet['entities'])['user_mentions']\n",
    "    hashtag_mentions = [hashtag['text'].lower() for hashtag in hashtags] + [user_mention['screen_name'].lower() for user_mention in user_mentions]\n",
    "    \n",
    "    driverFound = False\n",
    "    \n",
    "    #check whether tweet contains a driver hashtag or driver annotation, if yes -> create link\n",
    "    for driver in drivers.iterrows():\n",
    "        if driver['screenName'].lower() in hashtag_mentions:\n",
    "            user = users[userID]\n",
    "                    \n",
    "            #increase number of votes (weight) for existing edge or create new edge\n",
    "            jsonEntry = dict()\n",
    "            jsonEntry[\"source\"] = user['screenName']\n",
    "            jsonEntry[\"target\"] = driver['screenName']\n",
    "            jsonEntry[\"tweetId\"] = tweetID\n",
    "            edges.append(jsonEntry)\n",
    "\n",
    "\n",
    "            driverFound == True\n",
    "            print(f\"User {userID} voted for Driver {drivers['Name']} with tweet {tweetID}\")\n",
    "\n",
    "        if driverFound:\n",
    "            #one tweet can only vote for one driver -> first mentioned wins\n",
    "            break"
   ]
  },
  {
   "cell_type": "code",
   "execution_count": null,
   "metadata": {},
   "outputs": [],
   "source": [
    "#transform edge list into networkx Multigraph and save\n",
    "df_edges = pd.DataFrame.from_records(edges)\n",
    "\n",
    "G = nx.empty_graph()\n",
    "if len(edges) != 0:\n",
    "    G = nx.convert_matrix.from_pandas_edgelist(df_edges, 'source', 'target', edge_attr = ['tweet_id'], create_using=nx.MultiDiGraph)\n",
    "    nx.set_node_attributes(G, nodes)\n",
    "    \n",
    "nx.write_graphml_lxml(G_before_protest, f'../../data/networks/network_voting_{selected_race}.graphml')"
   ]
  }
 ],
 "metadata": {
  "kernelspec": {
   "display_name": "Python 3 (ipykernel)",
   "language": "python",
   "name": "python3"
  },
  "language_info": {
   "codemirror_mode": {
    "name": "ipython",
    "version": 3
   },
   "file_extension": ".py",
   "mimetype": "text/x-python",
   "name": "python",
   "nbconvert_exporter": "python",
   "pygments_lexer": "ipython3",
   "version": "3.10.6"
  }
 },
 "nbformat": 4,
 "nbformat_minor": 2
}
