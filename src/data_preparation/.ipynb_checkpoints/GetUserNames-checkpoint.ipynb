{
 "cells": [
  {
   "cell_type": "code",
   "execution_count": 14,
   "metadata": {},
   "outputs": [],
   "source": [
    "import rest, streaming\n",
    "import tweepy\n",
    "import itertools\n",
    "import time\n",
    "import numpy as np\n",
    "import json"
   ]
  },
  {
   "cell_type": "code",
   "execution_count": 15,
   "metadata": {},
   "outputs": [],
   "source": [
    "#Authentization\n",
    "access_token = \"1244384385400438786-WVcBe0QxXrjIHJg9ZaTA4kGcKWpmcT\"  \n",
    "access_token_secret = \"jl7WpggsYtrH7u4drriTloE6ZW7OyDhhrU57c2zzBVrfJ\"  \n",
    "consumer_key = \"0QBzx46V6Oz6tuMoZtHhM07LI\"  \n",
    "consumer_secret = \"EM9DZnAAnrV4nwgL38MLWiH5zVClzC3tCPZsqKXWuQk7HIuqoO\"  \n",
    " \n",
    "auth = tweepy.OAuthHandler(consumer_key, consumer_secret)  \n",
    "auth.set_access_token(access_token, access_token_secret)  \n",
    "api = tweepy.API(auth)"
   ]
  },
  {
   "cell_type": "code",
   "execution_count": 16,
   "metadata": {},
   "outputs": [],
   "source": [
    "ids = [848820549656526848,\n",
    " 37501509,\n",
    " 2622350033,\n",
    " 1122379931445448704,\n",
    " 937053501338857472,\n",
    " 77917611,\n",
    " 40435077,\n",
    " 2851181777,\n",
    " 2292555910,\n",
    " 958128947782352896,\n",
    " 742309514834235397,\n",
    " 1033542527830384642]"
   ]
  },
  {
   "cell_type": "code",
   "execution_count": 46,
   "metadata": {},
   "outputs": [
    {
     "name": "stdout",
     "output_type": "stream",
     "text": [
      "Chester_Lam8\n",
      "Hong Kong\n",
      "Donerd\n",
      "None\n",
      "petersparrow17\n",
      "None\n",
      "steave_no_jobs\n",
      "None\n",
      "TsunamiQuiff\n",
      "Isle of Wight\n",
      "AudiMiddleEast\n",
      "None\n",
      "petebrazil\n",
      "None\n",
      "Jannik_H311\n",
      "None\n",
      "mighty1_quinn\n",
      "None\n",
      "JuanF120857140\n",
      "Guanajuato\n",
      "BanheiraPrata\n",
      "None\n",
      "sels_steve\n",
      "België\n"
     ]
    }
   ],
   "source": [
    "users = []\n",
    "for user in ids:\n",
    "    formelE = api.get_user(user)#screen_name = 'fiaformulae')  \n",
    "    print(formelE._json['screen_name'])\n",
    "    user_json = formelE._json\n",
    "    loc = (user_json)['location']\n",
    "    if loc:\n",
    "        country = (loc.split(',')[1]).strip()\n",
    "        print(country)\n",
    "    if not loc:\n",
    "        lang = (user_json)['lang']\n",
    "        print(lang)    \n",
    "        \n",
    "    users.append(formelE._json)"
   ]
  },
  {
   "cell_type": "code",
   "execution_count": 54,
   "metadata": {},
   "outputs": [
    {
     "data": {
      "text/plain": [
       "{'id': 1244384385400438786,\n",
       " 'id_str': '1244384385400438786',\n",
       " 'name': 'KatBoe',\n",
       " 'screen_name': 'KatBoe1',\n",
       " 'location': '',\n",
       " 'profile_location': None,\n",
       " 'description': '',\n",
       " 'url': None,\n",
       " 'entities': {'description': {'urls': []}},\n",
       " 'protected': False,\n",
       " 'followers_count': 0,\n",
       " 'friends_count': 0,\n",
       " 'listed_count': 0,\n",
       " 'created_at': 'Sun Mar 29 22:02:34 +0000 2020',\n",
       " 'favourites_count': 0,\n",
       " 'utc_offset': None,\n",
       " 'time_zone': None,\n",
       " 'geo_enabled': True,\n",
       " 'verified': False,\n",
       " 'statuses_count': 0,\n",
       " 'lang': None,\n",
       " 'contributors_enabled': False,\n",
       " 'is_translator': False,\n",
       " 'is_translation_enabled': False,\n",
       " 'profile_background_color': 'F5F8FA',\n",
       " 'profile_background_image_url': None,\n",
       " 'profile_background_image_url_https': None,\n",
       " 'profile_background_tile': False,\n",
       " 'profile_image_url': 'http://abs.twimg.com/sticky/default_profile_images/default_profile_normal.png',\n",
       " 'profile_image_url_https': 'https://abs.twimg.com/sticky/default_profile_images/default_profile_normal.png',\n",
       " 'profile_link_color': '1DA1F2',\n",
       " 'profile_sidebar_border_color': 'C0DEED',\n",
       " 'profile_sidebar_fill_color': 'DDEEF6',\n",
       " 'profile_text_color': '333333',\n",
       " 'profile_use_background_image': True,\n",
       " 'has_extended_profile': False,\n",
       " 'default_profile': True,\n",
       " 'default_profile_image': True,\n",
       " 'following': False,\n",
       " 'follow_request_sent': False,\n",
       " 'notifications': False,\n",
       " 'translator_type': 'none',\n",
       " 'suspended': False,\n",
       " 'needs_phone_verification': False}"
      ]
     },
     "execution_count": 54,
     "metadata": {},
     "output_type": "execute_result"
    }
   ],
   "source": [
    "moi = api.get_user(\"KatBoe1\")\n",
    "moi._json"
   ]
  },
  {
   "cell_type": "code",
   "execution_count": null,
   "metadata": {},
   "outputs": [],
   "source": [
    "(users[0])['country']"
   ]
  },
  {
   "cell_type": "code",
   "execution_count": 43,
   "metadata": {},
   "outputs": [
    {
     "name": "stdout",
     "output_type": "stream",
     "text": [
      "{'id': 2622350033, 'id_str': '2622350033', 'name': 'D.Motori', 'screen_name': 'petersparrow17', 'location': '', 'profile_location': None, 'description': 'Chimico, scrittore per BOLaround, speaker per RDM, superfan di Formula 1 e Rally.', 'url': 'https://t.co/5tTBZHKCKN', 'entities': {'url': {'urls': [{'url': 'https://t.co/5tTBZHKCKN', 'expanded_url': 'http://www.bolaround.it/', 'display_url': 'bolaround.it', 'indices': [0, 23]}]}, 'description': {'urls': []}}, 'protected': False, 'followers_count': 73, 'friends_count': 288, 'listed_count': 2, 'created_at': 'Thu Jun 19 07:47:01 +0000 2014', 'favourites_count': 12669, 'utc_offset': None, 'time_zone': None, 'geo_enabled': True, 'verified': False, 'statuses_count': 2555, 'lang': None, 'status': {'created_at': 'Sat Apr 25 11:04:33 +0000 2020', 'id': 1254003356672176129, 'id_str': '1254003356672176129', 'text': 'RT @Anto_Giovinazzi: Siamo rinati una volta, rinasceremo ancora 🇮🇹💙\\nBuon #25Aprile a tutti! https://t.co/O75XJfXECH', 'truncated': False, 'entities': {'hashtags': [{'text': '25Aprile', 'indices': [73, 82]}], 'symbols': [], 'user_mentions': [{'screen_name': 'Anto_Giovinazzi', 'name': 'Antonio Giovinazzi', 'id': 971608718, 'id_str': '971608718', 'indices': [3, 19]}], 'urls': [], 'media': [{'id': 1253992249647562759, 'id_str': '1253992249647562759', 'indices': [92, 115], 'media_url': 'http://pbs.twimg.com/media/EWcTTp9WAAc4Zm3.jpg', 'media_url_https': 'https://pbs.twimg.com/media/EWcTTp9WAAc4Zm3.jpg', 'url': 'https://t.co/O75XJfXECH', 'display_url': 'pic.twitter.com/O75XJfXECH', 'expanded_url': 'https://twitter.com/Anto_Giovinazzi/status/1253993186588065793/photo/1', 'type': 'photo', 'sizes': {'thumb': {'w': 150, 'h': 150, 'resize': 'crop'}, 'small': {'w': 680, 'h': 509, 'resize': 'fit'}, 'medium': {'w': 800, 'h': 599, 'resize': 'fit'}, 'large': {'w': 800, 'h': 599, 'resize': 'fit'}}, 'source_status_id': 1253993186588065793, 'source_status_id_str': '1253993186588065793', 'source_user_id': 971608718, 'source_user_id_str': '971608718'}]}, 'extended_entities': {'media': [{'id': 1253992249647562759, 'id_str': '1253992249647562759', 'indices': [92, 115], 'media_url': 'http://pbs.twimg.com/media/EWcTTp9WAAc4Zm3.jpg', 'media_url_https': 'https://pbs.twimg.com/media/EWcTTp9WAAc4Zm3.jpg', 'url': 'https://t.co/O75XJfXECH', 'display_url': 'pic.twitter.com/O75XJfXECH', 'expanded_url': 'https://twitter.com/Anto_Giovinazzi/status/1253993186588065793/photo/1', 'type': 'photo', 'sizes': {'thumb': {'w': 150, 'h': 150, 'resize': 'crop'}, 'small': {'w': 680, 'h': 509, 'resize': 'fit'}, 'medium': {'w': 800, 'h': 599, 'resize': 'fit'}, 'large': {'w': 800, 'h': 599, 'resize': 'fit'}}, 'source_status_id': 1253993186588065793, 'source_status_id_str': '1253993186588065793', 'source_user_id': 971608718, 'source_user_id_str': '971608718'}]}, 'source': '<a href=\"http://twitter.com/download/android\" rel=\"nofollow\">Twitter for Android</a>', 'in_reply_to_status_id': None, 'in_reply_to_status_id_str': None, 'in_reply_to_user_id': None, 'in_reply_to_user_id_str': None, 'in_reply_to_screen_name': None, 'geo': None, 'coordinates': None, 'place': None, 'contributors': None, 'retweeted_status': {'created_at': 'Sat Apr 25 10:24:08 +0000 2020', 'id': 1253993186588065793, 'id_str': '1253993186588065793', 'text': 'Siamo rinati una volta, rinasceremo ancora 🇮🇹💙\\nBuon #25Aprile a tutti! https://t.co/O75XJfXECH', 'truncated': False, 'entities': {'hashtags': [{'text': '25Aprile', 'indices': [52, 61]}], 'symbols': [], 'user_mentions': [], 'urls': [], 'media': [{'id': 1253992249647562759, 'id_str': '1253992249647562759', 'indices': [71, 94], 'media_url': 'http://pbs.twimg.com/media/EWcTTp9WAAc4Zm3.jpg', 'media_url_https': 'https://pbs.twimg.com/media/EWcTTp9WAAc4Zm3.jpg', 'url': 'https://t.co/O75XJfXECH', 'display_url': 'pic.twitter.com/O75XJfXECH', 'expanded_url': 'https://twitter.com/Anto_Giovinazzi/status/1253993186588065793/photo/1', 'type': 'photo', 'sizes': {'thumb': {'w': 150, 'h': 150, 'resize': 'crop'}, 'small': {'w': 680, 'h': 509, 'resize': 'fit'}, 'medium': {'w': 800, 'h': 599, 'resize': 'fit'}, 'large': {'w': 800, 'h': 599, 'resize': 'fit'}}}]}, 'extended_entities': {'media': [{'id': 1253992249647562759, 'id_str': '1253992249647562759', 'indices': [71, 94], 'media_url': 'http://pbs.twimg.com/media/EWcTTp9WAAc4Zm3.jpg', 'media_url_https': 'https://pbs.twimg.com/media/EWcTTp9WAAc4Zm3.jpg', 'url': 'https://t.co/O75XJfXECH', 'display_url': 'pic.twitter.com/O75XJfXECH', 'expanded_url': 'https://twitter.com/Anto_Giovinazzi/status/1253993186588065793/photo/1', 'type': 'photo', 'sizes': {'thumb': {'w': 150, 'h': 150, 'resize': 'crop'}, 'small': {'w': 680, 'h': 509, 'resize': 'fit'}, 'medium': {'w': 800, 'h': 599, 'resize': 'fit'}, 'large': {'w': 800, 'h': 599, 'resize': 'fit'}}}]}, 'source': '<a href=\"https://mobile.twitter.com\" rel=\"nofollow\">Twitter Web App</a>', 'in_reply_to_status_id': None, 'in_reply_to_status_id_str': None, 'in_reply_to_user_id': None, 'in_reply_to_user_id_str': None, 'in_reply_to_screen_name': None, 'geo': None, 'coordinates': None, 'place': None, 'contributors': None, 'is_quote_status': False, 'retweet_count': 85, 'favorite_count': 887, 'favorited': False, 'retweeted': False, 'possibly_sensitive': False, 'lang': 'it'}, 'is_quote_status': False, 'retweet_count': 85, 'favorite_count': 0, 'favorited': False, 'retweeted': False, 'possibly_sensitive': False, 'lang': 'it'}, 'contributors_enabled': False, 'is_translator': False, 'is_translation_enabled': False, 'profile_background_color': '000000', 'profile_background_image_url': 'http://abs.twimg.com/images/themes/theme1/bg.png', 'profile_background_image_url_https': 'https://abs.twimg.com/images/themes/theme1/bg.png', 'profile_background_tile': False, 'profile_image_url': 'http://pbs.twimg.com/profile_images/772783490748321792/QoRYTq0v_normal.jpg', 'profile_image_url_https': 'https://pbs.twimg.com/profile_images/772783490748321792/QoRYTq0v_normal.jpg', 'profile_banner_url': 'https://pbs.twimg.com/profile_banners/2622350033/1524855295', 'profile_link_color': 'CC0000', 'profile_sidebar_border_color': '000000', 'profile_sidebar_fill_color': '000000', 'profile_text_color': '000000', 'profile_use_background_image': False, 'has_extended_profile': True, 'default_profile': False, 'default_profile_image': False, 'following': False, 'follow_request_sent': False, 'notifications': False, 'translator_type': 'none'}\n",
      " Isle of Wight \n"
     ]
    }
   ],
   "source": [
    "print(users[2])\n",
    "loc = (users[2])['location']\n",
    "if loc:\n",
    "    country = loc.split(',')[1]\n",
    "    print(country)\n",
    "if not loc:\n",
    "    lang = (users[2])['lang']"
   ]
  },
  {
   "cell_type": "code",
   "execution_count": null,
   "metadata": {},
   "outputs": [],
   "source": []
  }
 ],
 "metadata": {
  "kernelspec": {
   "display_name": "Python 3 (ipykernel)",
   "language": "python",
   "name": "python3"
  },
  "language_info": {
   "codemirror_mode": {
    "name": "ipython",
    "version": 3
   },
   "file_extension": ".py",
   "mimetype": "text/x-python",
   "name": "python",
   "nbconvert_exporter": "python",
   "pygments_lexer": "ipython3",
   "version": "3.10.6"
  }
 },
 "nbformat": 4,
 "nbformat_minor": 2
}
